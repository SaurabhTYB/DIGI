{
  "nbformat": 4,
  "nbformat_minor": 0,
  "metadata": {
    "colab": {
      "provenance": [],
      "authorship_tag": "ABX9TyOHQIyZEMpotd6726kOrZIr",
      "include_colab_link": true
    },
    "kernelspec": {
      "name": "python3",
      "display_name": "Python 3"
    },
    "language_info": {
      "name": "python"
    }
  },
  "cells": [
    {
      "cell_type": "markdown",
      "metadata": {
        "id": "view-in-github",
        "colab_type": "text"
      },
      "source": [
        "<a href=\"https://colab.research.google.com/github/SaurabhTYB/DIGI/blob/main/Untitled1.ipynb\" target=\"_parent\"><img src=\"https://colab.research.google.com/assets/colab-badge.svg\" alt=\"Open In Colab\"/></a>"
      ]
    },
    {
      "cell_type": "code",
      "execution_count": 4,
      "metadata": {
        "colab": {
          "base_uri": "https://localhost:8080/"
        },
        "id": "gpFXxs-1Rno-",
        "outputId": "5926513e-58f4-48ac-be2c-7021ccce69ed"
      },
      "outputs": [
        {
          "output_type": "stream",
          "name": "stdout",
          "text": [
            "Generated Harshali_Devrukhkar.html\n",
            "Generated Meet_Lad.html\n",
            "Generated Pratik_Gadia.html\n",
            "Generated Vivek_Jain.html\n",
            "Generated Mohammad_Shamim_Khan.html\n"
          ]
        }
      ],
      "source": [
        "import pandas as pd\n",
        "\n",
        "# Function to replace placeholders in the template with employee data\n",
        "def generate_html(employee_data, template):\n",
        "    html = template\n",
        "    placeholders = {\n",
        "        \"{{PHOTO}}\": str(employee_data[\"PHOTO\"]),\n",
        "        \"{{NAME}}\": str(employee_data[\"NAME\"]),\n",
        "        \"{{DESIGNATION}}\": str(employee_data[\"DESIGNATION\"]),\n",
        "        \"{{NUMBER}}\": str(employee_data[\"NUMBER\"]),\n",
        "    }\n",
        "    for placeholder, value in placeholders.items():\n",
        "        html = html.replace(placeholder, value)\n",
        "    return html\n",
        "\n",
        "def main():\n",
        "    # Path to the Excel file and the HTML template\n",
        "    excel_file = \"employee.xlsx\"  # Replace with the path to your Excel file\n",
        "    html_template_file = \"signature.html\"  # Replace with the path to your HTML template\n",
        "\n",
        "    # Read the Excel file\n",
        "    employee_data = pd.read_excel(excel_file)\n",
        "\n",
        "    # Read the HTML template\n",
        "    with open(html_template_file, \"r\", encoding=\"utf-8\") as file:\n",
        "        template = file.read()\n",
        "\n",
        "    # Generate an HTML file for each employee\n",
        "    for index, row in employee_data.iterrows():\n",
        "        # Generate HTML content\n",
        "        html_content = generate_html(row, template)\n",
        "\n",
        "        # Save the HTML file\n",
        "        output_file = f\"{row['NAME'].replace(' ', '_')}.html\"\n",
        "        with open(output_file, \"w\", encoding=\"utf-8\") as file:\n",
        "            file.write(html_content)\n",
        "\n",
        "        print(f\"Generated {output_file}\")\n",
        "\n",
        "if __name__ == \"__main__\":\n",
        "    main()\n"
      ]
    }
  ]
}